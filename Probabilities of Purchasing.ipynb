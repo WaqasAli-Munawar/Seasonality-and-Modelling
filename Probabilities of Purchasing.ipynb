{
 "cells": [
  {
   "cell_type": "code",
   "execution_count": 1,
   "id": "d64a688d",
   "metadata": {},
   "outputs": [],
   "source": [
    "import pandas as pd\n",
    "import numpy as np"
   ]
  },
  {
   "cell_type": "code",
   "execution_count": 2,
   "id": "62775877",
   "metadata": {},
   "outputs": [],
   "source": [
    "s = pd.read_csv(\"season.csv\")"
   ]
  },
  {
   "cell_type": "code",
   "execution_count": 3,
   "id": "8202f613",
   "metadata": {},
   "outputs": [
    {
     "data": {
      "text/plain": [
       "(157467, 8)"
      ]
     },
     "execution_count": 3,
     "metadata": {},
     "output_type": "execute_result"
    }
   ],
   "source": [
    "s.shape"
   ]
  },
  {
   "cell_type": "code",
   "execution_count": 4,
   "id": "c1a15051",
   "metadata": {},
   "outputs": [
    {
     "data": {
      "text/html": [
       "<div>\n",
       "<style scoped>\n",
       "    .dataframe tbody tr th:only-of-type {\n",
       "        vertical-align: middle;\n",
       "    }\n",
       "\n",
       "    .dataframe tbody tr th {\n",
       "        vertical-align: top;\n",
       "    }\n",
       "\n",
       "    .dataframe thead th {\n",
       "        text-align: right;\n",
       "    }\n",
       "</style>\n",
       "<table border=\"1\" class=\"dataframe\">\n",
       "  <thead>\n",
       "    <tr style=\"text-align: right;\">\n",
       "      <th></th>\n",
       "      <th>fisc_wk_id</th>\n",
       "      <th>fisc_wk_strt_dt</th>\n",
       "      <th>mkt_lvl</th>\n",
       "      <th>rgn_shrt_nm</th>\n",
       "      <th>co_nbr</th>\n",
       "      <th>co_shrt_nm</th>\n",
       "      <th>cust_nbr</th>\n",
       "      <th>ttl_cases</th>\n",
       "    </tr>\n",
       "  </thead>\n",
       "  <tbody>\n",
       "    <tr>\n",
       "      <th>0</th>\n",
       "      <td>202051</td>\n",
       "      <td>2020-06-14</td>\n",
       "      <td>North</td>\n",
       "      <td>New England</td>\n",
       "      <td>8</td>\n",
       "      <td>NORTHERN NEW ENGLAND</td>\n",
       "      <td>5785</td>\n",
       "      <td>35.000</td>\n",
       "    </tr>\n",
       "    <tr>\n",
       "      <th>1</th>\n",
       "      <td>202051</td>\n",
       "      <td>2020-06-14</td>\n",
       "      <td>North</td>\n",
       "      <td>New England</td>\n",
       "      <td>8</td>\n",
       "      <td>NORTHERN NEW ENGLAND</td>\n",
       "      <td>11866</td>\n",
       "      <td>1.000</td>\n",
       "    </tr>\n",
       "    <tr>\n",
       "      <th>2</th>\n",
       "      <td>202051</td>\n",
       "      <td>2020-06-14</td>\n",
       "      <td>North</td>\n",
       "      <td>New England</td>\n",
       "      <td>8</td>\n",
       "      <td>NORTHERN NEW ENGLAND</td>\n",
       "      <td>36111</td>\n",
       "      <td>138.248</td>\n",
       "    </tr>\n",
       "    <tr>\n",
       "      <th>3</th>\n",
       "      <td>202051</td>\n",
       "      <td>2020-06-14</td>\n",
       "      <td>North</td>\n",
       "      <td>New England</td>\n",
       "      <td>8</td>\n",
       "      <td>NORTHERN NEW ENGLAND</td>\n",
       "      <td>36475</td>\n",
       "      <td>282.498</td>\n",
       "    </tr>\n",
       "    <tr>\n",
       "      <th>4</th>\n",
       "      <td>202051</td>\n",
       "      <td>2020-06-14</td>\n",
       "      <td>North</td>\n",
       "      <td>New England</td>\n",
       "      <td>8</td>\n",
       "      <td>NORTHERN NEW ENGLAND</td>\n",
       "      <td>104505</td>\n",
       "      <td>17.000</td>\n",
       "    </tr>\n",
       "  </tbody>\n",
       "</table>\n",
       "</div>"
      ],
      "text/plain": [
       "   fisc_wk_id fisc_wk_strt_dt mkt_lvl  rgn_shrt_nm  co_nbr  \\\n",
       "0      202051      2020-06-14   North  New England       8   \n",
       "1      202051      2020-06-14   North  New England       8   \n",
       "2      202051      2020-06-14   North  New England       8   \n",
       "3      202051      2020-06-14   North  New England       8   \n",
       "4      202051      2020-06-14   North  New England       8   \n",
       "\n",
       "             co_shrt_nm  cust_nbr  ttl_cases  \n",
       "0  NORTHERN NEW ENGLAND      5785     35.000  \n",
       "1  NORTHERN NEW ENGLAND     11866      1.000  \n",
       "2  NORTHERN NEW ENGLAND     36111    138.248  \n",
       "3  NORTHERN NEW ENGLAND     36475    282.498  \n",
       "4  NORTHERN NEW ENGLAND    104505     17.000  "
      ]
     },
     "execution_count": 4,
     "metadata": {},
     "output_type": "execute_result"
    }
   ],
   "source": [
    "s.head()"
   ]
  },
  {
   "cell_type": "code",
   "execution_count": 5,
   "id": "f7d4ac40",
   "metadata": {},
   "outputs": [],
   "source": [
    "final = s[[\"cust_nbr\", \"fisc_wk_id\"]]"
   ]
  },
  {
   "cell_type": "code",
   "execution_count": 6,
   "id": "66afb731",
   "metadata": {},
   "outputs": [
    {
     "name": "stderr",
     "output_type": "stream",
     "text": [
      "C:\\Users\\Waqas\\AppData\\Local\\Temp\\ipykernel_3152\\2950342604.py:1: SettingWithCopyWarning: \n",
      "A value is trying to be set on a copy of a slice from a DataFrame.\n",
      "Try using .loc[row_indexer,col_indexer] = value instead\n",
      "\n",
      "See the caveats in the documentation: https://pandas.pydata.org/pandas-docs/stable/user_guide/indexing.html#returning-a-view-versus-a-copy\n",
      "  final.loc[:,\"purchases\"] = 1\n"
     ]
    }
   ],
   "source": [
    "final.loc[:,\"purchases\"] = 1"
   ]
  },
  {
   "cell_type": "code",
   "execution_count": 7,
   "id": "04f8bd20",
   "metadata": {},
   "outputs": [
    {
     "data": {
      "text/plain": [
       "0"
      ]
     },
     "execution_count": 7,
     "metadata": {},
     "output_type": "execute_result"
    }
   ],
   "source": [
    "final.duplicated().sum()"
   ]
  },
  {
   "cell_type": "code",
   "execution_count": 8,
   "id": "cec082c4",
   "metadata": {},
   "outputs": [
    {
     "data": {
      "text/plain": [
       "202051"
      ]
     },
     "execution_count": 8,
     "metadata": {},
     "output_type": "execute_result"
    }
   ],
   "source": [
    "final[\"fisc_wk_id\"].min()"
   ]
  },
  {
   "cell_type": "code",
   "execution_count": 9,
   "id": "a0cef305",
   "metadata": {},
   "outputs": [
    {
     "data": {
      "text/plain": [
       "202349"
      ]
     },
     "execution_count": 9,
     "metadata": {},
     "output_type": "execute_result"
    }
   ],
   "source": [
    "final[\"fisc_wk_id\"].max()"
   ]
  },
  {
   "cell_type": "code",
   "execution_count": 10,
   "id": "8ca2ecb5",
   "metadata": {},
   "outputs": [
    {
     "data": {
      "text/html": [
       "<div>\n",
       "<style scoped>\n",
       "    .dataframe tbody tr th:only-of-type {\n",
       "        vertical-align: middle;\n",
       "    }\n",
       "\n",
       "    .dataframe tbody tr th {\n",
       "        vertical-align: top;\n",
       "    }\n",
       "\n",
       "    .dataframe thead th {\n",
       "        text-align: right;\n",
       "    }\n",
       "</style>\n",
       "<table border=\"1\" class=\"dataframe\">\n",
       "  <thead>\n",
       "    <tr style=\"text-align: right;\">\n",
       "      <th></th>\n",
       "      <th>cust_nbr</th>\n",
       "      <th>fisc_wk_id</th>\n",
       "      <th>purchases</th>\n",
       "    </tr>\n",
       "  </thead>\n",
       "  <tbody>\n",
       "    <tr>\n",
       "      <th>50235</th>\n",
       "      <td>5785</td>\n",
       "      <td>202153</td>\n",
       "      <td>1</td>\n",
       "    </tr>\n",
       "    <tr>\n",
       "      <th>50236</th>\n",
       "      <td>11866</td>\n",
       "      <td>202153</td>\n",
       "      <td>1</td>\n",
       "    </tr>\n",
       "    <tr>\n",
       "      <th>50237</th>\n",
       "      <td>21758</td>\n",
       "      <td>202153</td>\n",
       "      <td>1</td>\n",
       "    </tr>\n",
       "    <tr>\n",
       "      <th>50238</th>\n",
       "      <td>22004</td>\n",
       "      <td>202153</td>\n",
       "      <td>1</td>\n",
       "    </tr>\n",
       "    <tr>\n",
       "      <th>50239</th>\n",
       "      <td>36111</td>\n",
       "      <td>202153</td>\n",
       "      <td>1</td>\n",
       "    </tr>\n",
       "    <tr>\n",
       "      <th>...</th>\n",
       "      <td>...</td>\n",
       "      <td>...</td>\n",
       "      <td>...</td>\n",
       "    </tr>\n",
       "    <tr>\n",
       "      <th>51474</th>\n",
       "      <td>781385</td>\n",
       "      <td>202153</td>\n",
       "      <td>1</td>\n",
       "    </tr>\n",
       "    <tr>\n",
       "      <th>51475</th>\n",
       "      <td>816165</td>\n",
       "      <td>202153</td>\n",
       "      <td>1</td>\n",
       "    </tr>\n",
       "    <tr>\n",
       "      <th>51476</th>\n",
       "      <td>826925</td>\n",
       "      <td>202153</td>\n",
       "      <td>1</td>\n",
       "    </tr>\n",
       "    <tr>\n",
       "      <th>51477</th>\n",
       "      <td>887521</td>\n",
       "      <td>202153</td>\n",
       "      <td>1</td>\n",
       "    </tr>\n",
       "    <tr>\n",
       "      <th>51478</th>\n",
       "      <td>952754</td>\n",
       "      <td>202153</td>\n",
       "      <td>1</td>\n",
       "    </tr>\n",
       "  </tbody>\n",
       "</table>\n",
       "<p>1244 rows × 3 columns</p>\n",
       "</div>"
      ],
      "text/plain": [
       "       cust_nbr  fisc_wk_id  purchases\n",
       "50235      5785      202153          1\n",
       "50236     11866      202153          1\n",
       "50237     21758      202153          1\n",
       "50238     22004      202153          1\n",
       "50239     36111      202153          1\n",
       "...         ...         ...        ...\n",
       "51474    781385      202153          1\n",
       "51475    816165      202153          1\n",
       "51476    826925      202153          1\n",
       "51477    887521      202153          1\n",
       "51478    952754      202153          1\n",
       "\n",
       "[1244 rows x 3 columns]"
      ]
     },
     "execution_count": 10,
     "metadata": {},
     "output_type": "execute_result"
    }
   ],
   "source": [
    "final[(final[\"fisc_wk_id\"].astype(str).str[-2:] == \"53\")]"
   ]
  },
  {
   "cell_type": "code",
   "execution_count": 11,
   "id": "2751d7b4",
   "metadata": {},
   "outputs": [],
   "source": [
    "all_wk = list(range(202051, 202053)) + list(range(202101, 202154)) + list(range(202201, 202253)) + list(range(202301, 202350))"
   ]
  },
  {
   "cell_type": "code",
   "execution_count": 12,
   "id": "148e0519",
   "metadata": {},
   "outputs": [],
   "source": [
    "customers = final[\"cust_nbr\"].unique()"
   ]
  },
  {
   "cell_type": "code",
   "execution_count": 13,
   "id": "5aefbf99",
   "metadata": {},
   "outputs": [
    {
     "name": "stdout",
     "output_type": "stream",
     "text": [
      "<class 'pandas.core.frame.DataFrame'>\n",
      "RangeIndex: 157467 entries, 0 to 157466\n",
      "Data columns (total 3 columns):\n",
      " #   Column      Non-Null Count   Dtype\n",
      "---  ------      --------------   -----\n",
      " 0   cust_nbr    157467 non-null  int64\n",
      " 1   fisc_wk_id  157467 non-null  int64\n",
      " 2   purchases   157467 non-null  int64\n",
      "dtypes: int64(3)\n",
      "memory usage: 3.6 MB\n"
     ]
    }
   ],
   "source": [
    "final.info()"
   ]
  },
  {
   "cell_type": "code",
   "execution_count": 14,
   "id": "37f4b109",
   "metadata": {},
   "outputs": [],
   "source": [
    "all_data = []\n",
    "\n",
    "for c in customers:\n",
    "    all_data.append([c]*len(all_wk))"
   ]
  },
  {
   "cell_type": "code",
   "execution_count": 15,
   "id": "80609405",
   "metadata": {},
   "outputs": [],
   "source": [
    "all_d = pd.DataFrame()"
   ]
  },
  {
   "cell_type": "code",
   "execution_count": 16,
   "id": "e7aaa760",
   "metadata": {},
   "outputs": [
    {
     "data": {
      "text/plain": [
       "3213"
      ]
     },
     "execution_count": 16,
     "metadata": {},
     "output_type": "execute_result"
    }
   ],
   "source": [
    "len(all_data)"
   ]
  },
  {
   "cell_type": "code",
   "execution_count": 17,
   "id": "06177287",
   "metadata": {},
   "outputs": [],
   "source": [
    "all_d[\"cust_nbr\"] = np.array(all_data).flatten()"
   ]
  },
  {
   "cell_type": "code",
   "execution_count": 18,
   "id": "715f9789",
   "metadata": {},
   "outputs": [
    {
     "data": {
      "text/plain": [
       "501228"
      ]
     },
     "execution_count": 18,
     "metadata": {},
     "output_type": "execute_result"
    }
   ],
   "source": [
    "len(all_wk * len(customers))"
   ]
  },
  {
   "cell_type": "code",
   "execution_count": 19,
   "id": "27667c09",
   "metadata": {},
   "outputs": [],
   "source": [
    "all_d[\"fisc_wk_id\"] = all_wk * len(customers)"
   ]
  },
  {
   "cell_type": "code",
   "execution_count": 20,
   "id": "e1e6ec41",
   "metadata": {},
   "outputs": [],
   "source": [
    "full_data = all_d.merge(final, how = \"left\", on =[\"cust_nbr\", \"fisc_wk_id\"] )"
   ]
  },
  {
   "cell_type": "code",
   "execution_count": 21,
   "id": "49e500a3",
   "metadata": {},
   "outputs": [],
   "source": [
    "c_5785 = full_data.loc[full_data[\"cust_nbr\"] == 5785]"
   ]
  },
  {
   "cell_type": "code",
   "execution_count": 22,
   "id": "d1e2fa63",
   "metadata": {},
   "outputs": [
    {
     "data": {
      "text/html": [
       "<div>\n",
       "<style scoped>\n",
       "    .dataframe tbody tr th:only-of-type {\n",
       "        vertical-align: middle;\n",
       "    }\n",
       "\n",
       "    .dataframe tbody tr th {\n",
       "        vertical-align: top;\n",
       "    }\n",
       "\n",
       "    .dataframe thead th {\n",
       "        text-align: right;\n",
       "    }\n",
       "</style>\n",
       "<table border=\"1\" class=\"dataframe\">\n",
       "  <thead>\n",
       "    <tr style=\"text-align: right;\">\n",
       "      <th></th>\n",
       "      <th>cust_nbr</th>\n",
       "      <th>fisc_wk_id</th>\n",
       "      <th>purchases</th>\n",
       "    </tr>\n",
       "  </thead>\n",
       "  <tbody>\n",
       "    <tr>\n",
       "      <th>15</th>\n",
       "      <td>5785</td>\n",
       "      <td>202114</td>\n",
       "      <td>NaN</td>\n",
       "    </tr>\n",
       "    <tr>\n",
       "      <th>48</th>\n",
       "      <td>5785</td>\n",
       "      <td>202147</td>\n",
       "      <td>NaN</td>\n",
       "    </tr>\n",
       "    <tr>\n",
       "      <th>64</th>\n",
       "      <td>5785</td>\n",
       "      <td>202210</td>\n",
       "      <td>NaN</td>\n",
       "    </tr>\n",
       "    <tr>\n",
       "      <th>78</th>\n",
       "      <td>5785</td>\n",
       "      <td>202224</td>\n",
       "      <td>NaN</td>\n",
       "    </tr>\n",
       "  </tbody>\n",
       "</table>\n",
       "</div>"
      ],
      "text/plain": [
       "    cust_nbr  fisc_wk_id  purchases\n",
       "15      5785      202114        NaN\n",
       "48      5785      202147        NaN\n",
       "64      5785      202210        NaN\n",
       "78      5785      202224        NaN"
      ]
     },
     "execution_count": 22,
     "metadata": {},
     "output_type": "execute_result"
    }
   ],
   "source": [
    "c_5785[c_5785[\"purchases\"].isnull()]"
   ]
  },
  {
   "cell_type": "code",
   "execution_count": 23,
   "id": "0e4982fb",
   "metadata": {},
   "outputs": [],
   "source": [
    "f_5785 = final.loc[final[\"cust_nbr\"] == 5785]"
   ]
  },
  {
   "cell_type": "code",
   "execution_count": 24,
   "id": "8e60b1a1",
   "metadata": {},
   "outputs": [
    {
     "data": {
      "text/plain": [
       "array([202051, 202052, 202101, 202102, 202103, 202104, 202105, 202106,\n",
       "       202107, 202108, 202109, 202110, 202111, 202112, 202113, 202115,\n",
       "       202116, 202117, 202118, 202119, 202120, 202121, 202122, 202123,\n",
       "       202124, 202125, 202126, 202127, 202128, 202129, 202130, 202131,\n",
       "       202132, 202133, 202134, 202135, 202136, 202137, 202138, 202139,\n",
       "       202140, 202141, 202142, 202143, 202144, 202145, 202146, 202148,\n",
       "       202149, 202150, 202151, 202152, 202153, 202201, 202202, 202203,\n",
       "       202204, 202205, 202206, 202207, 202208, 202209, 202211, 202212,\n",
       "       202213, 202214, 202215, 202216, 202217, 202218, 202219, 202220,\n",
       "       202221, 202222, 202223, 202225, 202226, 202227, 202228, 202229,\n",
       "       202230, 202231, 202232, 202233, 202234, 202235, 202236, 202237,\n",
       "       202238, 202239, 202240, 202241, 202242, 202243, 202244, 202245,\n",
       "       202246, 202247, 202248, 202249, 202250, 202251, 202252, 202301,\n",
       "       202302, 202303, 202304, 202305, 202306, 202307, 202308, 202309,\n",
       "       202310, 202311, 202312, 202313, 202314, 202315, 202316, 202317,\n",
       "       202318, 202319, 202320, 202321, 202322, 202323, 202324, 202325,\n",
       "       202326, 202327, 202328, 202329, 202330, 202331, 202332, 202333,\n",
       "       202334, 202335, 202336, 202337, 202338, 202339, 202340, 202341,\n",
       "       202342, 202343, 202344, 202345, 202346, 202347, 202348, 202349],\n",
       "      dtype=int64)"
      ]
     },
     "execution_count": 24,
     "metadata": {},
     "output_type": "execute_result"
    }
   ],
   "source": [
    "f_5785[\"fisc_wk_id\"].unique()"
   ]
  },
  {
   "cell_type": "code",
   "execution_count": 25,
   "id": "596fa041",
   "metadata": {},
   "outputs": [
    {
     "data": {
      "text/plain": [
       "(157467, 3)"
      ]
     },
     "execution_count": 25,
     "metadata": {},
     "output_type": "execute_result"
    }
   ],
   "source": [
    "final.shape"
   ]
  },
  {
   "cell_type": "code",
   "execution_count": 26,
   "id": "a7efa241",
   "metadata": {},
   "outputs": [
    {
     "name": "stdout",
     "output_type": "stream",
     "text": [
      "<class 'pandas.core.frame.DataFrame'>\n",
      "Int64Index: 501228 entries, 0 to 501227\n",
      "Data columns (total 3 columns):\n",
      " #   Column      Non-Null Count   Dtype  \n",
      "---  ------      --------------   -----  \n",
      " 0   cust_nbr    501228 non-null  int64  \n",
      " 1   fisc_wk_id  501228 non-null  int64  \n",
      " 2   purchases   157467 non-null  float64\n",
      "dtypes: float64(1), int64(2)\n",
      "memory usage: 15.3 MB\n"
     ]
    }
   ],
   "source": [
    "full_data.info()"
   ]
  },
  {
   "cell_type": "code",
   "execution_count": 27,
   "id": "769d96aa",
   "metadata": {},
   "outputs": [],
   "source": [
    "full_data.fillna(0, inplace = True)"
   ]
  },
  {
   "cell_type": "code",
   "execution_count": 28,
   "id": "135a91ac",
   "metadata": {},
   "outputs": [
    {
     "name": "stdout",
     "output_type": "stream",
     "text": [
      "<class 'pandas.core.frame.DataFrame'>\n",
      "Int64Index: 501228 entries, 0 to 501227\n",
      "Data columns (total 3 columns):\n",
      " #   Column      Non-Null Count   Dtype  \n",
      "---  ------      --------------   -----  \n",
      " 0   cust_nbr    501228 non-null  int64  \n",
      " 1   fisc_wk_id  501228 non-null  int64  \n",
      " 2   purchases   501228 non-null  float64\n",
      "dtypes: float64(1), int64(2)\n",
      "memory usage: 15.3 MB\n"
     ]
    }
   ],
   "source": [
    "full_data.info()"
   ]
  },
  {
   "cell_type": "code",
   "execution_count": 29,
   "id": "969f43f0",
   "metadata": {},
   "outputs": [],
   "source": [
    "full_data.sort_values(\"fisc_wk_id\", inplace = True)"
   ]
  },
  {
   "cell_type": "code",
   "execution_count": 30,
   "id": "fbdb3530",
   "metadata": {},
   "outputs": [],
   "source": [
    "from sklearn.linear_model import LogisticRegression\n",
    "from sklearn.preprocessing import StandardScaler"
   ]
  },
  {
   "cell_type": "code",
   "execution_count": 31,
   "id": "8a275d9a",
   "metadata": {},
   "outputs": [],
   "source": [
    "X = full_data.drop(columns = \"purchases\")\n",
    "y = full_data[\"purchases\"]"
   ]
  },
  {
   "cell_type": "code",
   "execution_count": 32,
   "id": "7c1b54b0",
   "metadata": {},
   "outputs": [],
   "source": [
    "X = StandardScaler().fit_transform(X)"
   ]
  },
  {
   "cell_type": "code",
   "execution_count": 33,
   "id": "7df9428f",
   "metadata": {},
   "outputs": [
    {
     "data": {
      "text/plain": [
       "array([[-3.70951232, -2.03729268],\n",
       "       [-0.59624674, -2.03729268],\n",
       "       [-2.12865519, -2.03729268],\n",
       "       ...,\n",
       "       [ 0.51592867,  1.52576598],\n",
       "       [ 0.55576867,  1.52576598],\n",
       "       [ 0.5702256 ,  1.52576598]])"
      ]
     },
     "execution_count": 33,
     "metadata": {},
     "output_type": "execute_result"
    }
   ],
   "source": [
    "X"
   ]
  },
  {
   "cell_type": "code",
   "execution_count": 34,
   "id": "c645ae36",
   "metadata": {},
   "outputs": [],
   "source": [
    "lr = LogisticRegression()"
   ]
  },
  {
   "cell_type": "code",
   "execution_count": 35,
   "id": "ef893651",
   "metadata": {},
   "outputs": [
    {
     "data": {
      "text/html": [
       "<style>#sk-container-id-1 {color: black;background-color: white;}#sk-container-id-1 pre{padding: 0;}#sk-container-id-1 div.sk-toggleable {background-color: white;}#sk-container-id-1 label.sk-toggleable__label {cursor: pointer;display: block;width: 100%;margin-bottom: 0;padding: 0.3em;box-sizing: border-box;text-align: center;}#sk-container-id-1 label.sk-toggleable__label-arrow:before {content: \"▸\";float: left;margin-right: 0.25em;color: #696969;}#sk-container-id-1 label.sk-toggleable__label-arrow:hover:before {color: black;}#sk-container-id-1 div.sk-estimator:hover label.sk-toggleable__label-arrow:before {color: black;}#sk-container-id-1 div.sk-toggleable__content {max-height: 0;max-width: 0;overflow: hidden;text-align: left;background-color: #f0f8ff;}#sk-container-id-1 div.sk-toggleable__content pre {margin: 0.2em;color: black;border-radius: 0.25em;background-color: #f0f8ff;}#sk-container-id-1 input.sk-toggleable__control:checked~div.sk-toggleable__content {max-height: 200px;max-width: 100%;overflow: auto;}#sk-container-id-1 input.sk-toggleable__control:checked~label.sk-toggleable__label-arrow:before {content: \"▾\";}#sk-container-id-1 div.sk-estimator input.sk-toggleable__control:checked~label.sk-toggleable__label {background-color: #d4ebff;}#sk-container-id-1 div.sk-label input.sk-toggleable__control:checked~label.sk-toggleable__label {background-color: #d4ebff;}#sk-container-id-1 input.sk-hidden--visually {border: 0;clip: rect(1px 1px 1px 1px);clip: rect(1px, 1px, 1px, 1px);height: 1px;margin: -1px;overflow: hidden;padding: 0;position: absolute;width: 1px;}#sk-container-id-1 div.sk-estimator {font-family: monospace;background-color: #f0f8ff;border: 1px dotted black;border-radius: 0.25em;box-sizing: border-box;margin-bottom: 0.5em;}#sk-container-id-1 div.sk-estimator:hover {background-color: #d4ebff;}#sk-container-id-1 div.sk-parallel-item::after {content: \"\";width: 100%;border-bottom: 1px solid gray;flex-grow: 1;}#sk-container-id-1 div.sk-label:hover label.sk-toggleable__label {background-color: #d4ebff;}#sk-container-id-1 div.sk-serial::before {content: \"\";position: absolute;border-left: 1px solid gray;box-sizing: border-box;top: 0;bottom: 0;left: 50%;z-index: 0;}#sk-container-id-1 div.sk-serial {display: flex;flex-direction: column;align-items: center;background-color: white;padding-right: 0.2em;padding-left: 0.2em;position: relative;}#sk-container-id-1 div.sk-item {position: relative;z-index: 1;}#sk-container-id-1 div.sk-parallel {display: flex;align-items: stretch;justify-content: center;background-color: white;position: relative;}#sk-container-id-1 div.sk-item::before, #sk-container-id-1 div.sk-parallel-item::before {content: \"\";position: absolute;border-left: 1px solid gray;box-sizing: border-box;top: 0;bottom: 0;left: 50%;z-index: -1;}#sk-container-id-1 div.sk-parallel-item {display: flex;flex-direction: column;z-index: 1;position: relative;background-color: white;}#sk-container-id-1 div.sk-parallel-item:first-child::after {align-self: flex-end;width: 50%;}#sk-container-id-1 div.sk-parallel-item:last-child::after {align-self: flex-start;width: 50%;}#sk-container-id-1 div.sk-parallel-item:only-child::after {width: 0;}#sk-container-id-1 div.sk-dashed-wrapped {border: 1px dashed gray;margin: 0 0.4em 0.5em 0.4em;box-sizing: border-box;padding-bottom: 0.4em;background-color: white;}#sk-container-id-1 div.sk-label label {font-family: monospace;font-weight: bold;display: inline-block;line-height: 1.2em;}#sk-container-id-1 div.sk-label-container {text-align: center;}#sk-container-id-1 div.sk-container {/* jupyter's `normalize.less` sets `[hidden] { display: none; }` but bootstrap.min.css set `[hidden] { display: none !important; }` so we also need the `!important` here to be able to override the default hidden behavior on the sphinx rendered scikit-learn.org. See: https://github.com/scikit-learn/scikit-learn/issues/21755 */display: inline-block !important;position: relative;}#sk-container-id-1 div.sk-text-repr-fallback {display: none;}</style><div id=\"sk-container-id-1\" class=\"sk-top-container\"><div class=\"sk-text-repr-fallback\"><pre>LogisticRegression()</pre><b>In a Jupyter environment, please rerun this cell to show the HTML representation or trust the notebook. <br />On GitHub, the HTML representation is unable to render, please try loading this page with nbviewer.org.</b></div><div class=\"sk-container\" hidden><div class=\"sk-item\"><div class=\"sk-estimator sk-toggleable\"><input class=\"sk-toggleable__control sk-hidden--visually\" id=\"sk-estimator-id-1\" type=\"checkbox\" checked><label for=\"sk-estimator-id-1\" class=\"sk-toggleable__label sk-toggleable__label-arrow\">LogisticRegression</label><div class=\"sk-toggleable__content\"><pre>LogisticRegression()</pre></div></div></div></div></div>"
      ],
      "text/plain": [
       "LogisticRegression()"
      ]
     },
     "execution_count": 35,
     "metadata": {},
     "output_type": "execute_result"
    }
   ],
   "source": [
    "lr.fit(X,y)"
   ]
  },
  {
   "cell_type": "code",
   "execution_count": 36,
   "id": "6227b5d6",
   "metadata": {},
   "outputs": [],
   "source": [
    "probabilities = lr.predict_proba(X)[:,1]"
   ]
  },
  {
   "cell_type": "code",
   "execution_count": 37,
   "id": "a6270290",
   "metadata": {},
   "outputs": [
    {
     "data": {
      "text/plain": [
       "501228"
      ]
     },
     "execution_count": 37,
     "metadata": {},
     "output_type": "execute_result"
    }
   ],
   "source": [
    "probabilities.size"
   ]
  },
  {
   "cell_type": "code",
   "execution_count": 38,
   "id": "fc90d096",
   "metadata": {},
   "outputs": [],
   "source": [
    "full_data[\"probability\"]  = probabilities"
   ]
  },
  {
   "cell_type": "code",
   "execution_count": 39,
   "id": "087ce541",
   "metadata": {},
   "outputs": [],
   "source": [
    "full_data.drop(columns = \"purchases\").to_csv(\"probabilities.csv\", index = False)"
   ]
  },
  {
   "cell_type": "code",
   "execution_count": null,
   "id": "bea22bda",
   "metadata": {},
   "outputs": [],
   "source": []
  }
 ],
 "metadata": {
  "kernelspec": {
   "display_name": "Python 3 (ipykernel)",
   "language": "python",
   "name": "python3"
  },
  "language_info": {
   "codemirror_mode": {
    "name": "ipython",
    "version": 3
   },
   "file_extension": ".py",
   "mimetype": "text/x-python",
   "name": "python",
   "nbconvert_exporter": "python",
   "pygments_lexer": "ipython3",
   "version": "3.10.9"
  }
 },
 "nbformat": 4,
 "nbformat_minor": 5
}
